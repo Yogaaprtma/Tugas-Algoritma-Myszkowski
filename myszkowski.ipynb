{
  "cells": [
    {
      "cell_type": "markdown",
      "metadata": {
        "id": "3EtTDTfCXFyC"
      },
      "source": [
        "**ALGORITMA MYSZKOWSKI**"
      ]
    },
    {
      "cell_type": "code",
      "execution_count": null,
      "metadata": {
        "colab": {
          "base_uri": "https://localhost:8080/",
          "height": 53
        },
        "id": "YPY6SKZ2XFyE",
        "outputId": "0525f6b8-8ca1-4998-ee8f-fb1b1af3bc1a"
      },
      "outputs": [
        {
          "name": "stdout",
          "output_type": "stream",
          "text": [
            "Masukkan PlainText : TENTUKAN PRIORITAS ANDA SEBAB KITA TIDAK DAPAT MENGERJAKAN SEMUANYA X\n"
          ]
        },
        {
          "output_type": "execute_result",
          "data": {
            "text/plain": [
              "'TENTUKAN PRIORITAS ANDA SEBAB KITA TIDAK DAPAT MENGERJAKAN SEMUANYA X'"
            ],
            "application/vnd.google.colaboratory.intrinsic+json": {
              "type": "string"
            }
          },
          "metadata": {},
          "execution_count": 1
        }
      ],
      "source": [
        "plainText = input(\"Masukkan PlainText : \") #untuk memberikan inputan plainText\n",
        "plainText #untuk menampilkan output dari plainText yang telah diinput"
      ]
    },
    {
      "cell_type": "markdown",
      "source": [
        "pada kode diatas berfungsi untuk memberikan inputan agar dapat memasukkan plainText yang ingin diinputkan. Lalu kita panggil plainText untuk dapat menampilkan output plainText yang telah diinputkan tadi."
      ],
      "metadata": {
        "id": "5kZ7GPlvXfxt"
      }
    },
    {
      "cell_type": "code",
      "execution_count": null,
      "metadata": {
        "colab": {
          "base_uri": "https://localhost:8080/",
          "height": 53
        },
        "id": "bkbHNmL2XFyF",
        "outputId": "cd2f6ba0-a60e-4811-d458-c21965c98ee4"
      },
      "outputs": [
        {
          "name": "stdout",
          "output_type": "stream",
          "text": [
            "Masukkan Kunci : BOROBUDUR\n"
          ]
        },
        {
          "output_type": "execute_result",
          "data": {
            "text/plain": [
              "'BOROBUDUR'"
            ],
            "application/vnd.google.colaboratory.intrinsic+json": {
              "type": "string"
            }
          },
          "metadata": {},
          "execution_count": 2
        }
      ],
      "source": [
        "kunci = input(\"Masukkan Kunci : \") #untuk memberikan inputan kata kunci\n",
        "kunci #untuk menampilkan output dari kata kunci yang telah diinput"
      ]
    },
    {
      "cell_type": "markdown",
      "source": [
        "pada kode diatas berfungsi untuk memberikan inputan agar dapat memasukkan kata kunci yang ingin diinputkan. Lalu kita panggil kunci untuk dapat menampilkan output kata kunci yang telah diinputkan tadi."
      ],
      "metadata": {
        "id": "vDPSlyWXYC9o"
      }
    },
    {
      "cell_type": "markdown",
      "source": [],
      "metadata": {
        "id": "BDy4t5t4YBHz"
      }
    },
    {
      "cell_type": "code",
      "execution_count": null,
      "metadata": {
        "id": "eNH0Er48XFyG"
      },
      "outputs": [],
      "source": [
        "# VALIDASI INPUT USER\n",
        "if not plainText:\n",
        "    print(\"PlainText Kosong !\") #jika tidak ada plainText, maka akan muncul output PlainText Kosong !\n",
        "elif not kunci:\n",
        "    print(\"Kunci Kosong !\") #jika tidak ada kunci, maka akan muncul output PlainText Kosong !\n",
        "else:\n",
        "    plaintext_size = len(plainText) #jika plaintext_size = panjang dari plainText yang telah di inputkan\n",
        "    kunci_size = len(kunci) #kunci_size = panjang dsri kunci yang telah di inputkan\n",
        "    size = plaintext_size / kunci_size #maka size = plaintext_size / kunci_size untuk menampilkan panjang dari pembagian antara plainText dengan kunci\n",
        "    size #untuk menampilkan output dari size"
      ]
    },
    {
      "cell_type": "code",
      "execution_count": null,
      "metadata": {
        "id": "aUUF53cdXFyG"
      },
      "outputs": [],
      "source": [
        "import math #library math\n",
        "\n",
        "def checkDecimal(plainText, key): #membuat fungsi checkDecimal dengan parameter plainText dan key\n",
        "    rows = 0 #untuk baris nya = 0\n",
        "    if(len(plainText) % len(key) != 0): #jika panjang plainText di modulus dengan panjang kunci tidak sama dengan 0\n",
        "        rows = math.ceil(len(plainText) / len(key)) #maka baris = hasil pembagian antara panjang plainText dengan panjang kunci dibulatkan keatas\n",
        "    else: #jika baris = panjang plainText dibagi panjang kunci ditambah 1\n",
        "        rows = len(plainText) / len(key) + 1\n",
        "    return rows #maka baris akan dikembalikan"
      ]
    },
    {
      "cell_type": "code",
      "execution_count": null,
      "metadata": {
        "colab": {
          "base_uri": "https://localhost:8080/"
        },
        "id": "2yjT1IXdXFyG",
        "outputId": "5c526a46-6c4f-47af-f2c5-5de5a594ce78"
      },
      "outputs": [
        {
          "output_type": "execute_result",
          "data": {
            "text/plain": [
              "8"
            ]
          },
          "metadata": {},
          "execution_count": 8
        }
      ],
      "source": [
        "rows = checkDecimal(plainText, kunci) #variable baris = checkDecimal dengan parameter plainText dan kunci\n",
        "rows #memanggil variable baris untuk menampilkan output baris"
      ]
    },
    {
      "cell_type": "code",
      "execution_count": null,
      "metadata": {
        "colab": {
          "base_uri": "https://localhost:8080/"
        },
        "id": "N1x0J7MDXFyG",
        "outputId": "9c0243f9-43db-42fe-86a8-e875698c4f06"
      },
      "outputs": [
        {
          "output_type": "execute_result",
          "data": {
            "text/plain": [
              "['B', 'D', 'O', 'R', 'U']"
            ]
          },
          "metadata": {},
          "execution_count": 9
        }
      ],
      "source": [
        "plainText = plainText.replace(\" \",\"\") #untuk memberikan spasi pada plainText\n",
        "unique_keyword = sorted(set(kunci)) #variabel unique_keyword untuk menampilkan 1 kali pada kunci yang terdapat duplikat\n",
        "unique_keyword #untuk menampilkan output dari variabel unique_keyword"
      ]
    },
    {
      "cell_type": "code",
      "execution_count": null,
      "metadata": {
        "colab": {
          "base_uri": "https://localhost:8080/"
        },
        "id": "IuZz8qNLXFyH",
        "outputId": "7742f945-f31a-4e1c-ad83-1a94d1b0b453"
      },
      "outputs": [
        {
          "output_type": "execute_result",
          "data": {
            "text/plain": [
              "{'B': [], 'D': [], 'O': [], 'R': [], 'U': []}"
            ]
          },
          "metadata": {},
          "execution_count": 10
        }
      ],
      "source": [
        "keyword_order = {char: [] for char in unique_keyword} # tipe data map\n",
        "keyword_order #menampilkan output dari variabel keyword_order"
      ]
    },
    {
      "cell_type": "code",
      "execution_count": null,
      "metadata": {
        "colab": {
          "base_uri": "https://localhost:8080/"
        },
        "id": "E2AVs9YFXFyH",
        "outputId": "9f9b4607-0784-4a1e-a893-ee16e83eac41"
      },
      "outputs": [
        {
          "output_type": "execute_result",
          "data": {
            "text/plain": [
              "['B', 'O', 'R', 'O', 'B', 'U', 'D', 'U', 'R']"
            ]
          },
          "metadata": {},
          "execution_count": 11
        }
      ],
      "source": [
        "original_keyword_order = [char for char in kunci] # tipe data array\n",
        "original_keyword_order #menampilkan output dari variabel original_keyword_order"
      ]
    },
    {
      "cell_type": "code",
      "execution_count": null,
      "metadata": {
        "colab": {
          "base_uri": "https://localhost:8080/"
        },
        "id": "wZsCKRu1XFyH",
        "outputId": "de5389ab-83ee-4ce4-a66a-1bdb6682243c"
      },
      "outputs": [
        {
          "output_type": "execute_result",
          "data": {
            "text/plain": [
              "{'B': [1, 1], 'D': [2], 'O': [3, 3], 'R': [4, 4], 'U': [5, 5]}"
            ]
          },
          "metadata": {},
          "execution_count": 12
        }
      ],
      "source": [
        "for col, char in enumerate(unique_keyword): #pengulangan melalui karakter unik dalam unique_keyword\n",
        "    keyword_order[char].extend([col + 1] * kunci.count(char)) #Menambahkan nilai ke dalam dictionary keyword_order\n",
        "keyword_order #menampilkan output keyword_order"
      ]
    },
    {
      "cell_type": "code",
      "execution_count": null,
      "metadata": {
        "colab": {
          "base_uri": "https://localhost:8080/"
        },
        "id": "8R-JCGjCXFyH",
        "outputId": "937a045d-0777-479a-f830-0af38a07f748"
      },
      "outputs": [
        {
          "output_type": "execute_result",
          "data": {
            "text/plain": [
              "['1, 1', '3, 3', '4, 4', '3, 3', '1, 1', '5, 5', '2', '5, 5', '4, 4']"
            ]
          },
          "metadata": {},
          "execution_count": 13
        }
      ],
      "source": [
        "key_index = []\n",
        "for char in kunci: # Melakukan iterasi untuk setiap karakter dalam variabel 'kunci'.\n",
        "  orders = ', '.join(map(str, keyword_order[char])) # Mengubah data list integer menjadi bentuk string dan menggabungkan elemen-elemen list tersebut dengan tanda koma dan spasi\n",
        "  key_index.append(orders)\n",
        "key_index"
      ]
    },
    {
      "cell_type": "code",
      "execution_count": null,
      "metadata": {
        "colab": {
          "base_uri": "https://localhost:8080/"
        },
        "id": "e1Uly81fXFyH",
        "outputId": "8f5bd5d0-7ede-4f75-cb34-d8adca4b89e3"
      },
      "outputs": [
        {
          "output_type": "execute_result",
          "data": {
            "text/plain": [
              "['1', '3', '4', '3', '1', '5', '2', '5', '4']"
            ]
          },
          "metadata": {},
          "execution_count": 14
        }
      ],
      "source": [
        "ci = []\n",
        "for i in range(len(kunci)): # Melakukan iterasi dari 0 hingga panjang variabel 'kunci'.\n",
        "  for j in range(1):  # Melakukan iterasi hanya satu kali (j = 0) untuk setiap nilai i.\n",
        "    ci.append(key_index[i][j])\n",
        "ci"
      ]
    },
    {
      "cell_type": "code",
      "execution_count": null,
      "metadata": {
        "colab": {
          "base_uri": "https://localhost:8080/"
        },
        "id": "suqncShyXFyH",
        "outputId": "ee99b0a1-cfd6-4266-804f-560170bd7643"
      },
      "outputs": [
        {
          "output_type": "execute_result",
          "data": {
            "text/plain": [
              "[['', '', '', '', '', '', '', '', ''],\n",
              " ['', '', '', '', '', '', '', '', ''],\n",
              " ['', '', '', '', '', '', '', '', ''],\n",
              " ['', '', '', '', '', '', '', '', ''],\n",
              " ['', '', '', '', '', '', '', '', ''],\n",
              " ['', '', '', '', '', '', '', '', ''],\n",
              " ['', '', '', '', '', '', '', '', ''],\n",
              " ['', '', '', '', '', '', '', '', '']]"
            ]
          },
          "metadata": {},
          "execution_count": 15
        }
      ],
      "source": [
        "matrix = [['' for i in range(len(kunci))] for j in range(rows)] #Melakukan iterasi sebanyak rows (jumlah baris matriks).\n",
        "matrix #menampilkan output dari matrix"
      ]
    },
    {
      "cell_type": "code",
      "execution_count": null,
      "metadata": {
        "colab": {
          "base_uri": "https://localhost:8080/"
        },
        "id": "LovuC5MWXFyI",
        "outputId": "d83afaf7-c1e4-4edd-baf6-2d7e68199391"
      },
      "outputs": [
        {
          "output_type": "execute_result",
          "data": {
            "text/plain": [
              "[['1', '3', '4', '3', '1', '5', '2', '5', '4'],\n",
              " ['T', 'E', 'N', 'T', 'U', 'K', 'A', 'N', 'P'],\n",
              " ['R', 'I', 'O', 'R', 'I', 'T', 'A', 'S', 'A'],\n",
              " ['N', 'D', 'A', 'S', 'E', 'B', 'A', 'B', 'K'],\n",
              " ['I', 'T', 'A', 'T', 'I', 'D', 'A', 'K', 'D'],\n",
              " ['A', 'P', 'A', 'T', 'M', 'E', 'N', 'G', 'E'],\n",
              " ['R', 'J', 'A', 'K', 'A', 'N', 'S', 'E', 'M'],\n",
              " ['U', 'A', 'N', 'Y', 'A', 'X', '#', '#', '#']]"
            ]
          },
          "metadata": {},
          "execution_count": 16
        }
      ],
      "source": [
        "index = 0\n",
        "for i in range(rows): # Melakukan iterasi sebanyak 'rows' kali untuk membentuk baris matriks.\n",
        "  for j in range(len(kunci)): # Melakukan iterasi sebanyak karakter dalam 'kunci' untuk membentuk kolom matriks.\n",
        "    if(i == 0): # Jika ini adalah baris pertama dalam matriks:\n",
        "      matrix[i][j] = ci[j] # Mengisi elemen matriks dengan nilai dari list 'ci'.\n",
        "    else: # Jika ini bukan baris pertama dalam matriks:\n",
        "      if(index < len(plainText)): # Jika 'index' kurang dari panjang plaintext:\n",
        "        matrix[i][j] = plainText[index] # Mengisi elemen matriks dengan karakter dari 'plaintext'.\n",
        "        index+=1 # Nilai index bertambah 1\n",
        "      else: # Jika 'index' sudah mencapai akhir dari 'plaintext':\n",
        "        matrix[i][j] = \"#\" # Mengisi elemen matriks dengan #.\n",
        "matrix"
      ]
    },
    {
      "cell_type": "code",
      "execution_count": null,
      "metadata": {
        "colab": {
          "base_uri": "https://localhost:8080/"
        },
        "id": "eHX5aunZXFyI",
        "outputId": "648c7dfc-9ccf-44e8-db67-dc6e66ad9681"
      },
      "outputs": [
        {
          "output_type": "execute_result",
          "data": {
            "text/plain": [
              "['1', '2', '3', '4', '5']"
            ]
          },
          "metadata": {},
          "execution_count": 17
        }
      ],
      "source": [
        "kunci_sort = sorted(set(ci)) #Mengurutkan Set Menjadi List\n",
        "kunci_sort #menampilkan ouput dari kunci_sort"
      ]
    },
    {
      "cell_type": "markdown",
      "metadata": {
        "id": "Q4TKoLdgXFyI"
      },
      "source": [
        "**ENCRYPT TEXT**"
      ]
    },
    {
      "cell_type": "code",
      "execution_count": null,
      "metadata": {
        "colab": {
          "base_uri": "https://localhost:8080/"
        },
        "id": "uoVC-qGqXFyI",
        "outputId": "7f536afb-1018-47cc-82a3-97290e7f592d"
      },
      "outputs": [
        {
          "output_type": "execute_result",
          "data": {
            "text/plain": [
              "['T',\n",
              " 'U',\n",
              " 'R',\n",
              " 'I',\n",
              " 'N',\n",
              " 'E',\n",
              " 'I',\n",
              " 'I',\n",
              " 'A',\n",
              " 'M',\n",
              " 'R',\n",
              " 'A',\n",
              " 'U',\n",
              " 'A',\n",
              " 'A',\n",
              " 'A',\n",
              " 'A',\n",
              " 'A',\n",
              " 'N',\n",
              " 'S',\n",
              " '#',\n",
              " 'E',\n",
              " 'T',\n",
              " 'I',\n",
              " 'R',\n",
              " 'D',\n",
              " 'S',\n",
              " 'T',\n",
              " 'T',\n",
              " 'P',\n",
              " 'T',\n",
              " 'J',\n",
              " 'K',\n",
              " 'A',\n",
              " 'Y',\n",
              " 'N',\n",
              " 'P',\n",
              " 'O',\n",
              " 'A',\n",
              " 'A',\n",
              " 'K',\n",
              " 'A',\n",
              " 'D',\n",
              " 'A',\n",
              " 'E',\n",
              " 'A',\n",
              " 'M',\n",
              " 'N',\n",
              " '#',\n",
              " 'K',\n",
              " 'N',\n",
              " 'T',\n",
              " 'S',\n",
              " 'B',\n",
              " 'B',\n",
              " 'D',\n",
              " 'K',\n",
              " 'E',\n",
              " 'G',\n",
              " 'N',\n",
              " 'E',\n",
              " 'X',\n",
              " '#']"
            ]
          },
          "metadata": {},
          "execution_count": 18
        }
      ],
      "source": [
        "cipher = []\n",
        "index = 0\n",
        "for i in range(len(kunci_sort)): # Melakukan iterasi untuk setiap karakter dalam 'kunci_sort'.\n",
        "  for j in range(1,rows): # Iterasi tiap baris dimulai dari baris kedua\n",
        "    for k in range(len(kunci)):  # Iterasi kolom\n",
        "      if(matrix[0][k] == kunci_sort[i]): # Jika karakter dalam baris pertama matriks sama dengan karakter dalam 'kunci_sort'.\n",
        "        if(matrix[j][k] == \" \"): # Jika elemen matriks pada posisi ini adalah spasi.\n",
        "          cipher.append('') # Hilangkan spasi\n",
        "        else:\n",
        "          cipher.append(matrix[j][k]) # Menambahkan karakter dari matriks ke dalam 'cipher'.\n",
        "cipher"
      ]
    },
    {
      "cell_type": "code",
      "execution_count": null,
      "metadata": {
        "colab": {
          "base_uri": "https://localhost:8080/",
          "height": 35
        },
        "id": "Jk7S4H77XFyI",
        "outputId": "233723fa-d9f5-47f2-bbda-d4a4a4407fa2"
      },
      "outputs": [
        {
          "output_type": "execute_result",
          "data": {
            "text/plain": [
              "'TURINEIIAMRAUAAAAANS#ETIRDSTTPTJKAYNPOAAKADAEAMN#KNTSBBDKEGNEX#'"
            ],
            "application/vnd.google.colaboratory.intrinsic+json": {
              "type": "string"
            }
          },
          "metadata": {},
          "execution_count": 19
        }
      ],
      "source": [
        "cipher_text = ''.join(cipher) #Membuat string tunggal dengan menggabungkan elemen-elemen dalam list 'cipher'\n",
        "cipher_text #Menampilkan output dari cipher_text"
      ]
    },
    {
      "cell_type": "code",
      "execution_count": null,
      "metadata": {
        "id": "eHNsR4umXFyI",
        "outputId": "a39e75c5-d459-4bc0-c03b-a0e53d694bbb"
      },
      "outputs": [
        {
          "data": {
            "text/plain": [
              "['TURIN',\n",
              " 'EIIAM',\n",
              " 'RAUAA',\n",
              " 'AAANS',\n",
              " '#ETIR',\n",
              " 'DSTTP',\n",
              " 'TJKAY',\n",
              " 'NPOAA',\n",
              " 'KADAE',\n",
              " 'AMN#K',\n",
              " 'NTSBB',\n",
              " 'DKEGN',\n",
              " 'EX#']"
            ]
          },
          "execution_count": 153,
          "metadata": {},
          "output_type": "execute_result"
        }
      ],
      "source": [
        "block_size = 5 # Menentukan ukuran blok\n",
        "blocks = [cipher_text[i:i+block_size] for i in range(0, len(cipher_text), block_size)] # Membuat blok-blok dari string 'cipher_text' dengan ukuran tertentu\n",
        "blocks #Menampilkan output blocks"
      ]
    },
    {
      "cell_type": "code",
      "execution_count": null,
      "metadata": {
        "id": "YIeVwMYKXFyI",
        "outputId": "4429a300-cb31-4ece-f0c9-4298eb216320"
      },
      "outputs": [
        {
          "data": {
            "text/plain": [
              "'TURIN EIIAM RAUAA AAANS ETIR DSTTP TJKAY NPOAA KADAE AMNK NTSBB DKEGN EX'"
            ]
          },
          "execution_count": 154,
          "metadata": {},
          "output_type": "execute_result"
        }
      ],
      "source": [
        "blocks = ' '.join(blocks) # Menggabungkan elemen-elemen dalam list 'blocks' menjadi satu string dengan spasi sebagai pemisah\n",
        "result = blocks.replace(\"#\", \"\") # Menghapus karakter '#' dari string 'blocks' dan menyimpannya dalam variabel 'result'\n",
        "result #Menampilkan output result"
      ]
    },
    {
      "cell_type": "markdown",
      "metadata": {
        "id": "9_uKkfHwXFyJ"
      },
      "source": [
        "**DECRYPT TEXT**"
      ]
    },
    {
      "cell_type": "code",
      "execution_count": null,
      "metadata": {
        "id": "_Y8POEBlXFyJ",
        "outputId": "529311a9-aa8a-4ed3-99b5-bbd7996ebe57"
      },
      "outputs": [
        {
          "data": {
            "text/plain": [
              "[['1', '3', '4', '3', '1', '5', '2', '5', '4'],\n",
              " ['', '', '', '', '', '', '', '', ''],\n",
              " ['', '', '', '', '', '', '', '', ''],\n",
              " ['', '', '', '', '', '', '', '', ''],\n",
              " ['', '', '', '', '', '', '', '', ''],\n",
              " ['', '', '', '', '', '', '', '', ''],\n",
              " ['', '', '', '', '', '', '', '', ''],\n",
              " ['', '', '', '', '', '', '', '', '']]"
            ]
          },
          "execution_count": 155,
          "metadata": {},
          "output_type": "execute_result"
        }
      ],
      "source": [
        "# Menginisialisasi matriks dekripsi\n",
        "matrix_cipher = [['' for i in range(len(kunci))] for j in range(rows)]\n",
        "for i in range(rows): # iterasi baris\n",
        "  for j in range(len(kunci)): # iterasi kolom\n",
        "    if(i == 0):\n",
        "      matrix_cipher[i][j] = ci[j] # baris pertama diisi dengan kunci\n",
        "matrix_cipher"
      ]
    },
    {
      "cell_type": "code",
      "execution_count": null,
      "metadata": {
        "id": "WdfrNx13XFyJ",
        "outputId": "74a97efc-a774-442f-b5ec-c73ce64c0afb"
      },
      "outputs": [
        {
          "data": {
            "text/plain": [
              "[['1', '3', '4', '3', '1', '5', '2', '5', '4'],\n",
              " ['T', 'E', 'N', 'T', 'U', 'K', 'A', 'N', 'P'],\n",
              " ['R', 'I', 'O', 'R', 'I', 'T', 'A', 'S', 'A'],\n",
              " ['N', 'D', 'A', 'S', 'E', 'B', 'A', 'B', 'K'],\n",
              " ['I', 'T', 'A', 'T', 'I', 'D', 'A', 'K', 'D'],\n",
              " ['A', 'P', 'A', 'T', 'M', 'E', 'N', 'G', 'E'],\n",
              " ['R', 'J', 'A', 'K', 'A', 'N', 'S', 'E', 'M'],\n",
              " ['U', 'A', 'N', 'Y', 'A', 'X', '#', '#', '#']]"
            ]
          },
          "execution_count": 156,
          "metadata": {},
          "output_type": "execute_result"
        }
      ],
      "source": [
        "# Mengisi matriks dengan blok-blok teks enkripsi\n",
        "indx = 0\n",
        "for i in range(len(kunci_sort)):\n",
        "  for j in range(1,rows): # iterasi baris\n",
        "    for k in range(len(kunci)): # iterasi kolom\n",
        "      if(matrix_cipher[0][k] == kunci_sort[i]):\n",
        "        if(indx < len(cipher_text)):\n",
        "          matrix_cipher[j][k] = cipher_text[indx]\n",
        "          indx+=1\n",
        "matrix_cipher"
      ]
    },
    {
      "cell_type": "code",
      "execution_count": null,
      "metadata": {
        "id": "OFAa5YbTXFyJ",
        "outputId": "36b248dc-a4b7-4aa0-ed2b-e1821a449ea3"
      },
      "outputs": [
        {
          "data": {
            "text/plain": [
              "['T',\n",
              " 'E',\n",
              " 'N',\n",
              " 'T',\n",
              " 'U',\n",
              " 'K',\n",
              " 'A',\n",
              " 'N',\n",
              " 'P',\n",
              " 'R',\n",
              " 'I',\n",
              " 'O',\n",
              " 'R',\n",
              " 'I',\n",
              " 'T',\n",
              " 'A',\n",
              " 'S',\n",
              " 'A',\n",
              " 'N',\n",
              " 'D',\n",
              " 'A',\n",
              " 'S',\n",
              " 'E',\n",
              " 'B',\n",
              " 'A',\n",
              " 'B',\n",
              " 'K',\n",
              " 'I',\n",
              " 'T',\n",
              " 'A',\n",
              " 'T',\n",
              " 'I',\n",
              " 'D',\n",
              " 'A',\n",
              " 'K',\n",
              " 'D',\n",
              " 'A',\n",
              " 'P',\n",
              " 'A',\n",
              " 'T',\n",
              " 'M',\n",
              " 'E',\n",
              " 'N',\n",
              " 'G',\n",
              " 'E',\n",
              " 'R',\n",
              " 'J',\n",
              " 'A',\n",
              " 'K',\n",
              " 'A',\n",
              " 'N',\n",
              " 'S',\n",
              " 'E',\n",
              " 'M',\n",
              " 'U',\n",
              " 'A',\n",
              " 'N',\n",
              " 'Y',\n",
              " 'A',\n",
              " 'X',\n",
              " '#',\n",
              " '#',\n",
              " '#']"
            ]
          },
          "execution_count": 157,
          "metadata": {},
          "output_type": "execute_result"
        }
      ],
      "source": [
        "# Mendekripsi teks\n",
        "decrypted_text = []\n",
        "for i in range(1, rows):\n",
        "    for j in range(len(kunci)):\n",
        "        decrypted_text.append(matrix_cipher[i][j])\n",
        "decrypted_text"
      ]
    },
    {
      "cell_type": "code",
      "execution_count": null,
      "metadata": {
        "id": "9NuweG1FXFyJ",
        "outputId": "6d367e85-7bcb-4b9c-cd70-c8cb042011f2"
      },
      "outputs": [
        {
          "data": {
            "text/plain": [
              "'TENTUKANPRIORITASANDASEBABKITATIDAKDAPATMENGERJAKANSEMUANYAX'"
            ]
          },
          "execution_count": 158,
          "metadata": {},
          "output_type": "execute_result"
        }
      ],
      "source": [
        "result = \"\".join(decrypted_text) # Menggabungkan elemen-elemen dalam list 'decrypted_text' menjadi satu string tanpa pemisah\n",
        "decrypted_sentence = result.replace(\"#\", \"\") # Menghapus karakter '#' dari string 'result' dan menyimpannya dalam variabel 'decrypted_sentence'\n",
        "decrypted_sentence # Menampilkan decrypted_sentence"
      ]
    },
    {
      "cell_type": "code",
      "execution_count": null,
      "metadata": {
        "id": "A09RtdLaXFyJ"
      },
      "outputs": [],
      "source": [
        "# Memisahkan kata-kata berdasarkan huruf kapital\n",
        "words = []\n",
        "current_word = ''\n",
        "for char in decrypted_sentence:\n",
        "    if char.isupper() and current_word:\n",
        "        words.append(current_word)\n",
        "        current_word = char\n",
        "    else:\n",
        "        current_word += char\n",
        "if current_word:\n",
        "    words.append(current_word)"
      ]
    },
    {
      "cell_type": "code",
      "execution_count": null,
      "metadata": {
        "id": "xSP4bj6yXFyJ",
        "outputId": "d18e04b2-e0b9-435f-ca17-df08bd99d1f2"
      },
      "outputs": [
        {
          "data": {
            "text/plain": [
              "'T E N T U K A N P R I O R I T A S A N D A S E B A B K I T A T I D A K D A P A T M E N G E R J A K A N S E M U A N Y A X'"
            ]
          },
          "execution_count": 160,
          "metadata": {},
          "output_type": "execute_result"
        }
      ],
      "source": [
        "# Menggabungkan kata-kata menjadi kalimat dengan spasi\n",
        "decrypted_text_with_spaces = ' '.join(words)\n",
        "decrypted_text_with_spaces"
      ]
    }
  ],
  "metadata": {
    "kernelspec": {
      "display_name": "Python 3",
      "language": "python",
      "name": "python3"
    },
    "language_info": {
      "codemirror_mode": {
        "name": "ipython",
        "version": 3
      },
      "file_extension": ".py",
      "mimetype": "text/x-python",
      "name": "python",
      "nbconvert_exporter": "python",
      "pygments_lexer": "ipython3",
      "version": "3.11.6"
    },
    "colab": {
      "provenance": []
    }
  },
  "nbformat": 4,
  "nbformat_minor": 0
}